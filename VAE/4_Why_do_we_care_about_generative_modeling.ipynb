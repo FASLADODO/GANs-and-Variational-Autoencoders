{
 "cells": [
  {
   "cell_type": "markdown",
   "metadata": {},
   "source": [
    "# Why do we care about generative modeling?<hr>\n",
    "\n",
    "- Legitimate question\n",
    "- Newcomers to ML aren't actually interested in ML. Common newbie questions:\n",
    " - How can i use ML to predict stocks and make money?\n",
    " - How can i write my own self-driving car software?\n",
    "- Fine questions, but not the right questions\n",
    "\n",
    "## Analogy\n",
    "- It's like going to the gym and asking, \"teach me to lift the 500 lb weight\"\n",
    "- First you have to be able to lift the 100 lb, 200 lb, 300 lb, 400 lb weights\n",
    "- Nobody wants to eat a proper diet and exercise everyday, they want results NOW\n",
    "- But these help and support you in achieving your original goal\n",
    "\n",
    "## Analogy over\n",
    "- Similarly, if you want to be an effective ML master, you want to explore concepts beyond supervised learning\n",
    "- It's no coincidence that experts (such as LeCun, Bengio, Hinton, etc.) have focused a lot of attention on unsupervised learning\n",
    "- Some unsupervised learning algorithms directly support supervised learning (e.g. greedy layer-wise pretraining)\n",
    "\n",
    "## Generative Modeling is not so Direct\n",
    "- Big gap between basic generative model and some of the applications discussed here\n",
    "- Research stage; ongoing work\n",
    "- But they are still exciting and real possibilities\n",
    "\n",
    "\n",
    "## Generative Modeling Seems Sub-par\n",
    "- Generated images are never as good as original. So why would we want to generate images that are not as good?\n",
    "- In addition, unlike our Bayes classifier, GANS by default don't even learn a PDF of the data\n",
    "- So then, what are the application?"
   ]
  },
  {
   "cell_type": "markdown",
   "metadata": {},
   "source": [
    "## Application: Reinforcement Learning\n",
    "- Agent must learn by experiencing environment\n",
    "- Ex. self-driving car\n",
    "- Flat road, no obstacles -> simple\n",
    "- Pedestrians, traffic, potholes, uneven terrain, weather -> hard\n",
    "- It is especially in dangerous situations that we want to be confident our self-driving software behaves correctly\n",
    "- How can it learn from real-life experience? Crash a car 1 milion times?\n",
    "- Answer: simulate experiences\n",
    "\n",
    "## Application: Semi-Supervised Learning\n",
    "- Deep learning works best when it has lots of data to train on \n",
    "- Expensive and time-consuming\n",
    "- But we like it - it's a relatively easy task\n",
    "- Sometimes we don't want to do pure unsupervised learning\n",
    "- Worth considering: is it possible to use both labeled and unlabeled data to do semi-supervised learning?\n",
    "\n",
    "## Application: Multi-Modal Distributions\n",
    "- We've already seen the benefits of modeling handwritten digits as a multi-modal distribution\n",
    "- GANs in particular are good at learning these\n",
    "- Squared error will try to pic the \"center\" of all targets simultaneously - result is blurry image\n",
    "\n",
    "## Application: Image Enhancement\n",
    "- You've probably seen this in movies\n",
    "- We've had some solutions (like bicubic interpolation) for awhile, but they don't produce high-quality, realistic images\n",
    "- Task is also known as upsampling\n",
    "\n",
    "## Application: Creating Art\n",
    "\n",
    "## Application: Image-to-Image Translation\n",
    "- We can take a low information image like a sketch and turn it into a realistic looking image"
   ]
  },
  {
   "cell_type": "code",
   "execution_count": null,
   "metadata": {},
   "outputs": [],
   "source": [
    " "
   ]
  }
 ],
 "metadata": {
  "kernelspec": {
   "display_name": "Python 3",
   "language": "python",
   "name": "python3"
  },
  "language_info": {
   "codemirror_mode": {
    "name": "ipython",
    "version": 3
   },
   "file_extension": ".py",
   "mimetype": "text/x-python",
   "name": "python",
   "nbconvert_exporter": "python",
   "pygments_lexer": "ipython3",
   "version": "3.6.5"
  }
 },
 "nbformat": 4,
 "nbformat_minor": 2
}
