{
 "cells": [
  {
   "cell_type": "markdown",
   "metadata": {},
   "source": [
    "# Variation Autoencoder Section Summary<hr>\n",
    "\n",
    "## Section Summary\n",
    "- Variational autoencoders: combine techiques from deep learning and variational inference\n",
    "- 1sk task: Reconstruct input\n",
    "- 2nd task: Bottleneck causes autoencoder to learn compact and efficient representation of data \n",
    "\n",
    "\n",
    "- Difference between VAE and regular AEs: all layers of interest represent distributions\n",
    "- Forward operation: neural net -> sample -> neural net\n",
    "- Tensorflow: stochastic tensor module, Theano: reparameterization trick"
   ]
  },
  {
   "cell_type": "markdown",
   "metadata": {},
   "source": [
    "## Cost Function\n",
    "- Made sure it made sense: reconstruction penalty + regularization penalty\n",
    "- Expected log-likelihood == Cross entropy - same as what we used for regular autoencoder\n",
    "\n",
    "![ELBO](../images/elbo.PNG)"
   ]
  },
  {
   "cell_type": "markdown",
   "metadata": {},
   "source": [
    "## Probabilistic Perspective\n",
    "- We want to accurately approximate \\\\(p(z|x)\\\\) with \\\\(q(z|x)\\\\)\n",
    "- In supervised learning, we are doing the same thing - we want to find a good \\\\(q(y|x)\\\\) to approximate \\\\(p(y|x)\\\\)\n",
    "- Unsupervised learning: \\\\(p(z|x)\\\\) not given, supervised learning: \\\\(p(y|x)\\\\) given\n",
    "\n",
    "\n",
    "- 2 expressions for ELBO\n",
    "- RHS we can fully calculate\n",
    "- LHS shows is why the ELBO, evidence lower bound, is an appropriate objective - as ELBO increases \\\\(D_{KL}[q(z|x)||p(z|x)]\\\\)"
   ]
  },
  {
   "cell_type": "code",
   "execution_count": null,
   "metadata": {},
   "outputs": [],
   "source": []
  }
 ],
 "metadata": {
  "kernelspec": {
   "display_name": "Python 3",
   "language": "python",
   "name": "python3"
  },
  "language_info": {
   "codemirror_mode": {
    "name": "ipython",
    "version": 3
   },
   "file_extension": ".py",
   "mimetype": "text/x-python",
   "name": "python",
   "nbconvert_exporter": "python",
   "pygments_lexer": "ipython3",
   "version": "3.6.5"
  }
 },
 "nbformat": 4,
 "nbformat_minor": 2
}
