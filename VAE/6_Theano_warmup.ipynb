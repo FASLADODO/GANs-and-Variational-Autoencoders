{
 "cells": [
  {
   "cell_type": "markdown",
   "metadata": {},
   "source": [
    "# Theano Warmup<hr>"
   ]
  },
  {
   "cell_type": "code",
   "execution_count": null,
   "metadata": {},
   "outputs": [],
   "source": [
    "import numpy as np\n",
    "import theano\n",
    "import theano.tensor as T\n",
    "import matplotlib.pyplot as plt\n",
    "from tensorflow.examples.tutorials.mnist import input_data\n",
    "mnist = input_data.read_data_sets('MNIST_data/', one_hot = False)"
   ]
  },
  {
   "cell_type": "code",
   "execution_count": 2,
   "metadata": {},
   "outputs": [],
   "source": [
    "class Autoencoder:\n",
    "    def __init__(self, D, M):\n",
    "        # replresents a batch of training data\n",
    "        self.X = T.matrix('X')\n",
    "        \n",
    "        # input -> hidden\n",
    "        self.W = theano.shared(np.random.randn(D, M) * 2 / np.sqrt(M))\n",
    "        self.b = theano.shared(np.zeros(M))\n",
    "        \n",
    "        # hidden -> input\n",
    "        self.V = theano.shared(np.random.randn(M, D) * 2 / np.sqrt(D))\n",
    "        self.c = theano.shared(np.zeros(D))\n",
    "        \n",
    "        # construct the reconstruction\n",
    "        self.Z = T.nnet.relu(self.X.dot(self.W) + self.b)\n",
    "        self.X_hat = T.nnet.sigmoid(self.Z.dot(self.V) + self.c)\n",
    "        \n",
    "        # compute the cost\n",
    "        self.cost = T.sum(\n",
    "            T.nnet.binary_crossentropy(\n",
    "                output = self.X_hat,\n",
    "                target = self.X,\n",
    "            )\n",
    "        )\n",
    "        \n",
    "        # define the updates\n",
    "        params = [self.W, self.b, self.V, self.c]\n",
    "        grads = T.grad(self.cost, params)\n",
    "        \n",
    "        # rmsprop\n",
    "        decay = 0.9\n",
    "        learning_rate = 0.001\n",
    "        \n",
    "        # for rmsprop\n",
    "        cache = [theano.shared(np.ones_like(p.get_value())) for p in params]\n",
    "        new_cache = [decay*c + (1-decay)*g*g for p, c, g in zip(params, cache, grads)]\n",
    "        \n",
    "        updates = [\n",
    "            (c, new_c) for c, new_c in zip(cache, new_cache)\n",
    "        ] + [\n",
    "            (p, p - learning_rate*g/T.sqrt(new_c + 1e-10)) for p, new_c, g in zip(params, new_cache, grads)\n",
    "        ]\n",
    "        \n",
    "        # now define callable functions\n",
    "        self.train_op = theano.function(\n",
    "            inputs = [self.X],\n",
    "            outputs = self.cost,\n",
    "            updates = updates\n",
    "        )\n",
    "        \n",
    "        self.predict = theano.function(\n",
    "            inputs = [self.X],\n",
    "            outputs = self.X_hat\n",
    "        )\n",
    "        \n",
    "    def fit(self, X, epochs = 30, batch_sz = 200):\n",
    "        costs = []\n",
    "        n_batches = len(X) // batch_sz\n",
    "        print('n_batches:', n_batches)\n",
    "        for i in range(epochs):\n",
    "            print('epoch:', i)\n",
    "            np.random.shuffle(X)\n",
    "            for j in range(n_batches):\n",
    "                batch = X[j * batch_sz:(j+1)*batch_sz]\n",
    "                c = self.train_op(batch)\n",
    "                c /= batch_sz\n",
    "                costs.append(c)\n",
    "                if j % 100 == 0 :\n",
    "                    print('iter:%d,cost:%.3f' % (j,c))\n",
    "        plt.plot(costs)\n",
    "        plt.show()"
   ]
  },
  {
   "cell_type": "code",
   "execution_count": null,
   "metadata": {},
   "outputs": [
    {
     "name": "stdout",
     "output_type": "stream",
     "text": [
      "n_batches: 275\n",
      "epoch: 0\n",
      "iter:0,cost:629.881\n"
     ]
    }
   ],
   "source": [
    "X = mnist.train.images\n",
    "model = Autoencoder(784,300)\n",
    "model.fit(X)\n",
    "\n",
    "done = False\n",
    "while not done:\n",
    "    i = np.random.choice(len(X))\n",
    "    x = X[i]\n",
    "    im = model.predict([x]).reshape(28,28)\n",
    "    plt.subplot(1,2,1)\n",
    "    plt.imshow(x.reshape(28,28), cmap='gray')\n",
    "    plt.title('Original')\n",
    "    plt.subplot(1,2,2)\n",
    "    plt.imshow(im, cmap='gray')\n",
    "    plt.show()\n",
    "    \n",
    "    ans = input('Generate another?')\n",
    "    if ans and ans[0] in ('n' or 'N'):\n",
    "        done = True"
   ]
  },
  {
   "cell_type": "code",
   "execution_count": null,
   "metadata": {},
   "outputs": [],
   "source": []
  },
  {
   "cell_type": "code",
   "execution_count": null,
   "metadata": {},
   "outputs": [],
   "source": []
  }
 ],
 "metadata": {
  "kernelspec": {
   "display_name": "Python 3",
   "language": "python",
   "name": "python3"
  },
  "language_info": {
   "codemirror_mode": {
    "name": "ipython",
    "version": 3
   },
   "file_extension": ".py",
   "mimetype": "text/x-python",
   "name": "python",
   "nbconvert_exporter": "python",
   "pygments_lexer": "ipython3",
   "version": "3.6.5"
  }
 },
 "nbformat": 4,
 "nbformat_minor": 2
}
