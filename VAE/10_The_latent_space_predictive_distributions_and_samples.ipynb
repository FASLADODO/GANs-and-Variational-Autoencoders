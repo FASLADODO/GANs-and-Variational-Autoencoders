{
 "cells": [
  {
   "cell_type": "markdown",
   "metadata": {},
   "source": [
    "# The Latent Space, Predictive Distributions and Samples<hr>\n",
    "\n",
    "## Latent Space\n",
    "- This concept appears with regular autoencoders and variational autoencoders\n",
    "- 2 steps: Encoder + Decoder\n",
    "- Encoder: x -> q(z)\n",
    "- z ~ q(z) lives in the **\"latent space\"** (a *\"coded\"* version of x)\n",
    "- Decoder: z -> x_hat\n",
    "- Let's visualize this process\n",
    "\n",
    "\n",
    "## Why is this important?\n",
    "- Bayesian machine learning concepts\n",
    "- Don't need to have a background in Bayesian ML, but if you do, you'll be more comfortable\n",
    "- \"Posterior predictive distribution\"\n",
    "- \"Prior predictive distribution\"\n",
    "- Sample from these to get:\n",
    "- \"Posterior predictive sample\"\n",
    "- \"Prior predictive sample\"\n",
    "\n",
    "## Posterior Predictive Sample\n",
    "![latent_space](../images/latent_space.PNG)\n",
    "- Input image of **\"8\"** into encoder, get \\\\(q(z|x)\\\\)\n",
    "- Sample from \\\\(q(z | x)\\\\) to get \\\\(z\\\\)\n",
    "- Get \\\\(p({x}{\\_hat} | x)\\\\), sample from it == posterior predictive sample\n",
    "\n",
    "## Prior Predictive Sample\n",
    "![prior_predictive](../images/prior_predictive.PNG)\n",
    "- Sample z ~ N(0,1)(you'll see why later - we purposely learn to encode inputs to this area)\n",
    "- Get \\\\(p({x}{\\_hat} | x)\\\\), sample from it == posterior predictive sample"
   ]
  },
  {
   "cell_type": "code",
   "execution_count": null,
   "metadata": {},
   "outputs": [],
   "source": []
  }
 ],
 "metadata": {
  "kernelspec": {
   "display_name": "Python 3",
   "language": "python",
   "name": "python3"
  },
  "language_info": {
   "codemirror_mode": {
    "name": "ipython",
    "version": 3
   },
   "file_extension": ".py",
   "mimetype": "text/x-python",
   "name": "python",
   "nbconvert_exporter": "python",
   "pygments_lexer": "ipython3",
   "version": "3.6.5"
  }
 },
 "nbformat": 4,
 "nbformat_minor": 2
}
