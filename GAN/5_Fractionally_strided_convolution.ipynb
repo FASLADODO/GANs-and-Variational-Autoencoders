{
 "cells": [
  {
   "cell_type": "markdown",
   "metadata": {},
   "source": [
    "# Fractionally-Strided Convolution<hr>\n",
    "## What's this \"deconvolution\" ?\n",
    "- \"Deconvolution\" is actually not a good name, but it's common\n",
    "- We will see why very shortly\n",
    "\n",
    "## Why are we discussing this?\n",
    "- It's different from any other neural network layer we've seen before \n",
    "- Small image -> bigger image\n",
    "- With regular convolution, we always get something ~same size or smaller if stride > 1"
   ]
  },
  {
   "cell_type": "markdown",
   "metadata": {},
   "source": [
    "## Small -> Big\n",
    "- When you use a typical photo editor (like photoshop) to enlarge an image, what happens?\n",
    "- Result is blurry / pixelated. We call these *\"artefacts\"*\n",
    "- Why? Small image contains a fixed amount of information\n",
    "- If we could enlarge an image indenfinitely and still obtain a clear image, that means it is storing an infinite amount of information in finite space\n",
    "- What happens if you zoom into atomic/sub-atomic level? Can't be possible !\n",
    "\n",
    "\n",
    "- So how does the generator go from small -> big?\n",
    "- More data is contained in feature maps !!\n",
    "- We transfer data from feature maps into the spatial dimensions of the image\n",
    "\n",
    "## What kind of convolution do we need?\n",
    "- Convolution we have been using won't work, because result is always the same size or smaller! (if stride > 1)\n",
    "\n",
    "## Fractionally-Strided Convolution\n",
    "- Why does a fractional stride make sense?\n",
    "- If we use stride = 2, result is 1/2 original\n",
    "- So if we use stride = 1/2, result is 2 x original\n",
    "\n",
    "![fractionally_strided](../images/fractionally_strided.PNG)"
   ]
  },
  {
   "cell_type": "markdown",
   "metadata": {},
   "source": [
    "## Problem!\n",
    "- If you try to use existing convolution functions with a fractional (float) stride, you'll get an error saying it only accepts integers\n",
    "- These are not the right functions to use\n",
    "\n",
    "## Tensorflow\n",
    "```python\n",
    "tf.nn.conv2d_transpose(\n",
    "    value,\n",
    "    filter,\n",
    "    output_shape,\n",
    "    strides,\n",
    "    padding='SAME',\n",
    "    name=None\n",
    ")\n",
    "```\n",
    "Why \"transpose\"?\n",
    "\n",
    "## Autoencoder\n",
    "- V must be the same shape as \\\\(W^T\\\\) (or be \\\\(W^T\\\\) it self if sharing weights)\n",
    "- Also recall: We showed in Convolutional Nets course that convolution can be made into a matrix multiply\n",
    "![fractionally_autoencoder](../images/fractionally_autoencoder.PNG)\n",
    "\n",
    "## Theano\n",
    "```python\n",
    "theano.tensor.nnet.abstract_conv.conv2d_grad_wtr_inputs(\n",
    "    output_grad,\n",
    "    filters,\n",
    "    input_shapem\n",
    "    filter_shape = None,\n",
    "    border_mode = 'valid',\n",
    "    subsample = (1,1)\n",
    ")\n",
    "```\n",
    "\n",
    "Why \"gradient\"?"
   ]
  },
  {
   "cell_type": "markdown",
   "metadata": {},
   "source": [
    "## Gradient for Convolution\n",
    "- NOT required at all to implement DCGANs\n",
    "- Suppose we have some output of a convolution\n",
    "\\\\(Y = W * X\\\\)\n",
    "- We know W and X, we wnat to find Y\n",
    "- Suppose we have Y, we want to simply find something the same size as X\n",
    "\n",
    "\n",
    "\\\\(shape(\\delta Y / \\delta X)==shape(X)\\\\)\n",
    "- Theano / TF must know how to do this (b/c they do autodiff)\n",
    "- Incidentally, gradient of convolution is a convolution!\n",
    "- And this convolution yields and output bigger than input\n",
    "\n",
    "## Can this be used for Autoencoders too?\n",
    "- Yes, Can be used for (variational) autoencoder layers\n",
    "- Just another neural network tool to add to your arsenal\n",
    "- Greate exercise: Once you learn to implement FS-Convolution, add it too autoencoder and use it on the same datasets we use for GAN"
   ]
  },
  {
   "cell_type": "markdown",
   "metadata": {},
   "source": [
    "## \"Deconvolution\"\n",
    "- Generally agreed that this is not a good name\n",
    "- Deconvoltion is already the name of something else in signal processing 'https://en.wikipedia.org/wiki/Deconvolution'\n",
    "- What we're doing is still a convolution. Not proper to call it a deconvolution if it's still a convolution"
   ]
  },
  {
   "cell_type": "code",
   "execution_count": null,
   "metadata": {},
   "outputs": [],
   "source": []
  }
 ],
 "metadata": {
  "kernelspec": {
   "display_name": "Python 3",
   "language": "python",
   "name": "python3"
  },
  "language_info": {
   "codemirror_mode": {
    "name": "ipython",
    "version": 3
   },
   "file_extension": ".py",
   "mimetype": "text/x-python",
   "name": "python",
   "nbconvert_exporter": "python",
   "pygments_lexer": "ipython3",
   "version": "3.6.5"
  }
 },
 "nbformat": 4,
 "nbformat_minor": 2
}
